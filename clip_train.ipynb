{
 "cells": [
  {
   "cell_type": "code",
   "execution_count": 8,
   "metadata": {},
   "outputs": [],
   "source": [
    "import os\n",
    "import numpy as np\n",
    "import torch\n",
    "from torch.utils.data import DataLoader, Dataset\n",
    "from torch.optim import AdamW\n",
    "\n",
    "from torchvision import datasets, transforms\n",
    "from transformers import CLIPProcessor, CLIPModel, AutoTokenizer, AutoModelForCausalLM\n",
    "import albumentations as A\n",
    "from pycocotools.coco import COCO\n",
    "from PIL import Image"
   ]
  },
  {
   "cell_type": "code",
   "execution_count": 33,
   "metadata": {},
   "outputs": [
    {
     "name": "stderr",
     "output_type": "stream",
     "text": [
      "You are using a model of type gpt_neox to instantiate a model of type clip. This is not supported for all configurations of models and can yield errors.\n"
     ]
    },
    {
     "data": {
      "application/vnd.jupyter.widget-view+json": {
       "model_id": "78ac9fd728e142ddb18736df3431d143",
       "version_major": 2,
       "version_minor": 0
      },
      "text/plain": [
       "Loading checkpoint shards:   0%|          | 0/3 [00:00<?, ?it/s]"
      ]
     },
     "metadata": {},
     "output_type": "display_data"
    },
    {
     "name": "stderr",
     "output_type": "stream",
     "text": [
      "Some weights of the model checkpoint at EleutherAI/polyglot-ko-1.3b were not used when initializing CLIPModel: ['gpt_neox.layers.16.mlp.dense_4h_to_h.bias', 'gpt_neox.layers.6.post_attention_layernorm.bias', 'gpt_neox.layers.12.attention.dense.weight', 'gpt_neox.layers.6.attention.dense.weight', 'gpt_neox.layers.2.attention.rotary_emb.inv_freq', 'gpt_neox.layers.7.mlp.dense_4h_to_h.weight', 'gpt_neox.layers.21.attention.masked_bias', 'gpt_neox.layers.11.mlp.dense_h_to_4h.bias', 'gpt_neox.layers.23.attention.query_key_value.bias', 'gpt_neox.layers.4.attention.bias', 'gpt_neox.layers.18.attention.bias', 'gpt_neox.layers.17.mlp.dense_h_to_4h.bias', 'gpt_neox.layers.4.input_layernorm.bias', 'gpt_neox.layers.17.attention.dense.bias', 'gpt_neox.layers.11.post_attention_layernorm.weight', 'gpt_neox.final_layer_norm.bias', 'gpt_neox.layers.19.mlp.dense_h_to_4h.weight', 'gpt_neox.layers.11.attention.query_key_value.weight', 'gpt_neox.layers.13.attention.dense.weight', 'gpt_neox.layers.4.mlp.dense_h_to_4h.bias', 'gpt_neox.layers.7.attention.query_key_value.weight', 'gpt_neox.layers.21.post_attention_layernorm.bias', 'gpt_neox.layers.13.attention.bias', 'gpt_neox.layers.2.post_attention_layernorm.bias', 'gpt_neox.layers.10.mlp.dense_4h_to_h.bias', 'gpt_neox.layers.0.input_layernorm.weight', 'gpt_neox.layers.7.post_attention_layernorm.weight', 'gpt_neox.layers.23.attention.bias', 'gpt_neox.layers.7.input_layernorm.bias', 'gpt_neox.layers.23.post_attention_layernorm.weight', 'gpt_neox.layers.19.attention.rotary_emb.inv_freq', 'gpt_neox.layers.12.attention.bias', 'gpt_neox.layers.18.attention.query_key_value.bias', 'gpt_neox.layers.3.attention.masked_bias', 'gpt_neox.layers.15.post_attention_layernorm.bias', 'gpt_neox.layers.21.post_attention_layernorm.weight', 'gpt_neox.layers.22.attention.rotary_emb.inv_freq', 'gpt_neox.layers.20.input_layernorm.bias', 'gpt_neox.layers.21.attention.query_key_value.bias', 'gpt_neox.layers.1.mlp.dense_4h_to_h.bias', 'gpt_neox.layers.16.mlp.dense_h_to_4h.weight', 'gpt_neox.layers.17.input_layernorm.bias', 'gpt_neox.layers.11.attention.bias', 'gpt_neox.layers.21.input_layernorm.bias', 'gpt_neox.layers.17.mlp.dense_h_to_4h.weight', 'gpt_neox.layers.12.attention.masked_bias', 'gpt_neox.layers.18.attention.masked_bias', 'gpt_neox.layers.17.attention.masked_bias', 'gpt_neox.layers.19.attention.dense.bias', 'gpt_neox.layers.9.attention.bias', 'gpt_neox.layers.8.attention.masked_bias', 'gpt_neox.layers.4.attention.rotary_emb.inv_freq', 'gpt_neox.layers.0.post_attention_layernorm.weight', 'gpt_neox.layers.5.attention.rotary_emb.inv_freq', 'gpt_neox.layers.2.mlp.dense_4h_to_h.weight', 'gpt_neox.layers.7.attention.dense.bias', 'gpt_neox.layers.22.attention.query_key_value.weight', 'gpt_neox.layers.19.attention.masked_bias', 'gpt_neox.layers.3.attention.bias', 'gpt_neox.layers.14.mlp.dense_4h_to_h.bias', 'gpt_neox.layers.19.mlp.dense_4h_to_h.weight', 'gpt_neox.layers.18.post_attention_layernorm.bias', 'gpt_neox.layers.20.attention.query_key_value.bias', 'gpt_neox.layers.23.attention.dense.weight', 'gpt_neox.layers.15.input_layernorm.weight', 'gpt_neox.layers.22.post_attention_layernorm.weight', 'gpt_neox.layers.0.mlp.dense_4h_to_h.bias', 'gpt_neox.layers.3.mlp.dense_h_to_4h.bias', 'gpt_neox.layers.5.attention.dense.bias', 'gpt_neox.layers.14.mlp.dense_h_to_4h.bias', 'gpt_neox.layers.8.attention.dense.bias', 'gpt_neox.layers.14.mlp.dense_4h_to_h.weight', 'gpt_neox.layers.16.input_layernorm.weight', 'gpt_neox.layers.21.attention.rotary_emb.inv_freq', 'gpt_neox.layers.12.attention.rotary_emb.inv_freq', 'gpt_neox.layers.8.post_attention_layernorm.weight', 'gpt_neox.layers.14.post_attention_layernorm.bias', 'gpt_neox.layers.12.mlp.dense_4h_to_h.weight', 'gpt_neox.layers.15.mlp.dense_4h_to_h.bias', 'gpt_neox.layers.7.attention.rotary_emb.inv_freq', 'gpt_neox.layers.15.input_layernorm.bias', 'gpt_neox.layers.21.mlp.dense_4h_to_h.bias', 'gpt_neox.layers.11.attention.dense.bias', 'gpt_neox.layers.6.attention.query_key_value.bias', 'gpt_neox.layers.9.attention.dense.weight', 'gpt_neox.layers.8.mlp.dense_h_to_4h.weight', 'gpt_neox.layers.9.attention.query_key_value.bias', 'gpt_neox.layers.6.input_layernorm.bias', 'gpt_neox.layers.18.input_layernorm.bias', 'gpt_neox.layers.15.post_attention_layernorm.weight', 'gpt_neox.layers.2.attention.query_key_value.weight', 'gpt_neox.layers.16.post_attention_layernorm.weight', 'gpt_neox.layers.0.post_attention_layernorm.bias', 'gpt_neox.layers.21.attention.bias', 'gpt_neox.layers.20.mlp.dense_h_to_4h.bias', 'gpt_neox.layers.23.input_layernorm.weight', 'gpt_neox.layers.19.attention.query_key_value.bias', 'gpt_neox.layers.13.input_layernorm.bias', 'gpt_neox.layers.2.mlp.dense_4h_to_h.bias', 'gpt_neox.layers.1.input_layernorm.bias', 'gpt_neox.layers.23.input_layernorm.bias', 'gpt_neox.layers.14.input_layernorm.bias', 'gpt_neox.layers.8.post_attention_layernorm.bias', 'gpt_neox.layers.18.attention.dense.weight', 'gpt_neox.layers.0.attention.masked_bias', 'gpt_neox.layers.12.mlp.dense_h_to_4h.bias', 'gpt_neox.layers.1.attention.masked_bias', 'gpt_neox.layers.12.attention.dense.bias', 'gpt_neox.layers.17.attention.bias', 'gpt_neox.layers.18.attention.dense.bias', 'gpt_neox.layers.9.input_layernorm.bias', 'gpt_neox.layers.0.attention.dense.weight', 'gpt_neox.layers.2.attention.query_key_value.bias', 'gpt_neox.layers.6.attention.dense.bias', 'gpt_neox.layers.8.attention.rotary_emb.inv_freq', 'gpt_neox.layers.0.mlp.dense_h_to_4h.weight', 'gpt_neox.layers.4.attention.masked_bias', 'gpt_neox.layers.22.mlp.dense_4h_to_h.weight', 'gpt_neox.layers.9.mlp.dense_h_to_4h.weight', 'gpt_neox.layers.12.mlp.dense_4h_to_h.bias', 'gpt_neox.layers.23.attention.dense.bias', 'gpt_neox.layers.10.mlp.dense_h_to_4h.weight', 'gpt_neox.layers.8.mlp.dense_h_to_4h.bias', 'gpt_neox.layers.0.attention.query_key_value.weight', 'gpt_neox.layers.19.attention.query_key_value.weight', 'gpt_neox.layers.7.input_layernorm.weight', 'gpt_neox.layers.1.attention.query_key_value.weight', 'gpt_neox.layers.16.attention.query_key_value.bias', 'gpt_neox.layers.7.post_attention_layernorm.bias', 'gpt_neox.layers.3.post_attention_layernorm.bias', 'gpt_neox.layers.1.attention.query_key_value.bias', 'gpt_neox.layers.16.attention.dense.bias', 'gpt_neox.layers.20.attention.dense.weight', 'gpt_neox.layers.10.input_layernorm.bias', 'gpt_neox.layers.17.attention.rotary_emb.inv_freq', 'gpt_neox.layers.13.attention.query_key_value.weight', 'gpt_neox.layers.19.mlp.dense_h_to_4h.bias', 'gpt_neox.layers.12.input_layernorm.bias', 'gpt_neox.layers.3.mlp.dense_4h_to_h.weight', 'gpt_neox.layers.19.input_layernorm.bias', 'gpt_neox.layers.19.attention.dense.weight', 'gpt_neox.layers.11.attention.dense.weight', 'gpt_neox.layers.22.attention.bias', 'gpt_neox.layers.9.post_attention_layernorm.bias', 'gpt_neox.layers.13.attention.dense.bias', 'gpt_neox.layers.22.mlp.dense_4h_to_h.bias', 'gpt_neox.layers.5.attention.masked_bias', 'gpt_neox.layers.23.mlp.dense_h_to_4h.weight', 'gpt_neox.layers.3.input_layernorm.weight', 'gpt_neox.layers.20.mlp.dense_4h_to_h.bias', 'gpt_neox.layers.17.mlp.dense_4h_to_h.bias', 'gpt_neox.layers.5.post_attention_layernorm.weight', 'gpt_neox.layers.16.mlp.dense_h_to_4h.bias', 'gpt_neox.layers.6.mlp.dense_h_to_4h.bias', 'gpt_neox.layers.3.attention.dense.bias', 'gpt_neox.layers.2.input_layernorm.weight', 'gpt_neox.layers.18.mlp.dense_4h_to_h.weight', 'gpt_neox.layers.14.post_attention_layernorm.weight', 'gpt_neox.layers.8.attention.query_key_value.weight', 'gpt_neox.layers.15.attention.query_key_value.bias', 'gpt_neox.layers.9.mlp.dense_h_to_4h.bias', 'gpt_neox.layers.20.attention.masked_bias', 'gpt_neox.layers.1.attention.rotary_emb.inv_freq', 'gpt_neox.layers.9.input_layernorm.weight', 'gpt_neox.layers.0.attention.query_key_value.bias', 'gpt_neox.layers.15.attention.bias', 'gpt_neox.layers.2.attention.dense.bias', 'gpt_neox.layers.15.attention.rotary_emb.inv_freq', 'gpt_neox.layers.9.mlp.dense_4h_to_h.bias', 'gpt_neox.layers.4.mlp.dense_4h_to_h.bias', 'gpt_neox.layers.7.mlp.dense_4h_to_h.bias', 'gpt_neox.layers.7.attention.bias', 'gpt_neox.layers.8.input_layernorm.weight', 'gpt_neox.layers.9.post_attention_layernorm.weight', 'gpt_neox.layers.5.mlp.dense_4h_to_h.bias', 'gpt_neox.layers.3.attention.rotary_emb.inv_freq', 'gpt_neox.layers.22.attention.masked_bias', 'gpt_neox.layers.6.attention.rotary_emb.inv_freq', 'gpt_neox.layers.9.attention.dense.bias', 'gpt_neox.layers.12.post_attention_layernorm.weight', 'gpt_neox.layers.13.mlp.dense_h_to_4h.weight', 'gpt_neox.layers.16.attention.rotary_emb.inv_freq', 'gpt_neox.layers.11.mlp.dense_4h_to_h.weight', 'gpt_neox.layers.6.mlp.dense_h_to_4h.weight', 'gpt_neox.layers.4.post_attention_layernorm.weight', 'gpt_neox.layers.4.attention.dense.bias', 'gpt_neox.layers.9.attention.query_key_value.weight', 'gpt_neox.layers.2.input_layernorm.bias', 'gpt_neox.layers.8.mlp.dense_4h_to_h.weight', 'gpt_neox.layers.16.input_layernorm.bias', 'gpt_neox.layers.21.mlp.dense_h_to_4h.bias', 'gpt_neox.layers.21.attention.dense.weight', 'gpt_neox.layers.13.attention.query_key_value.bias', 'gpt_neox.layers.16.attention.bias', 'gpt_neox.layers.10.attention.rotary_emb.inv_freq', 'gpt_neox.layers.22.mlp.dense_h_to_4h.weight', 'gpt_neox.layers.22.attention.query_key_value.bias', 'gpt_neox.layers.11.attention.rotary_emb.inv_freq', 'gpt_neox.layers.1.attention.dense.bias', 'gpt_neox.layers.4.attention.dense.weight', 'gpt_neox.layers.10.attention.dense.weight', 'gpt_neox.layers.6.mlp.dense_4h_to_h.bias', 'gpt_neox.layers.3.post_attention_layernorm.weight', 'gpt_neox.layers.13.attention.rotary_emb.inv_freq', 'gpt_neox.layers.5.attention.bias', 'gpt_neox.layers.19.post_attention_layernorm.bias', 'gpt_neox.layers.6.input_layernorm.weight', 'gpt_neox.layers.1.post_attention_layernorm.weight', 'gpt_neox.layers.17.mlp.dense_4h_to_h.weight', 'gpt_neox.layers.14.attention.query_key_value.weight', 'gpt_neox.layers.11.input_layernorm.bias', 'gpt_neox.layers.10.attention.dense.bias', 'gpt_neox.layers.2.attention.masked_bias', 'gpt_neox.layers.2.mlp.dense_h_to_4h.weight', 'gpt_neox.layers.21.mlp.dense_h_to_4h.weight', 'gpt_neox.layers.20.mlp.dense_4h_to_h.weight', 'gpt_neox.layers.16.attention.masked_bias', 'gpt_neox.layers.1.mlp.dense_4h_to_h.weight', 'gpt_neox.layers.12.input_layernorm.weight', 'gpt_neox.layers.12.attention.query_key_value.weight', 'gpt_neox.layers.11.attention.masked_bias', 'gpt_neox.layers.5.mlp.dense_h_to_4h.weight', 'gpt_neox.layers.7.attention.dense.weight', 'gpt_neox.layers.7.attention.masked_bias', 'gpt_neox.layers.15.mlp.dense_4h_to_h.weight', 'gpt_neox.layers.5.attention.dense.weight', 'gpt_neox.layers.20.attention.dense.bias', 'gpt_neox.layers.20.post_attention_layernorm.weight', 'gpt_neox.layers.22.input_layernorm.weight', 'gpt_neox.layers.11.mlp.dense_4h_to_h.bias', 'gpt_neox.layers.15.attention.dense.weight', 'gpt_neox.layers.15.attention.masked_bias', 'gpt_neox.layers.9.mlp.dense_4h_to_h.weight', 'gpt_neox.layers.13.attention.masked_bias', 'gpt_neox.layers.3.attention.query_key_value.weight', 'gpt_neox.layers.14.input_layernorm.weight', 'gpt_neox.layers.8.input_layernorm.bias', 'gpt_neox.layers.10.mlp.dense_h_to_4h.bias', 'gpt_neox.layers.5.mlp.dense_h_to_4h.bias', 'gpt_neox.layers.14.attention.dense.weight', 'gpt_neox.layers.4.attention.query_key_value.bias', 'gpt_neox.layers.14.attention.dense.bias', 'gpt_neox.layers.23.post_attention_layernorm.bias', 'gpt_neox.layers.3.input_layernorm.bias', 'gpt_neox.layers.0.input_layernorm.bias', 'gpt_neox.layers.18.mlp.dense_4h_to_h.bias', 'gpt_neox.layers.12.post_attention_layernorm.bias', 'gpt_neox.layers.1.attention.dense.weight', 'gpt_neox.layers.14.attention.rotary_emb.inv_freq', 'gpt_neox.layers.20.attention.rotary_emb.inv_freq', 'gpt_neox.layers.22.input_layernorm.bias', 'gpt_neox.layers.21.mlp.dense_4h_to_h.weight', 'gpt_neox.layers.23.attention.query_key_value.weight', 'gpt_neox.layers.0.mlp.dense_4h_to_h.weight', 'gpt_neox.layers.17.attention.query_key_value.bias', 'gpt_neox.layers.18.post_attention_layernorm.weight', 'gpt_neox.layers.21.input_layernorm.weight', 'gpt_neox.layers.23.mlp.dense_4h_to_h.weight', 'gpt_neox.layers.5.input_layernorm.weight', 'gpt_neox.layers.14.attention.masked_bias', 'gpt_neox.layers.2.attention.dense.weight', 'gpt_neox.layers.3.mlp.dense_4h_to_h.bias', 'gpt_neox.layers.23.mlp.dense_4h_to_h.bias', 'gpt_neox.layers.3.mlp.dense_h_to_4h.weight', 'gpt_neox.layers.16.post_attention_layernorm.bias', 'gpt_neox.layers.11.input_layernorm.weight', 'gpt_neox.layers.17.post_attention_layernorm.bias', 'gpt_neox.layers.15.mlp.dense_h_to_4h.weight', 'gpt_neox.layers.18.attention.rotary_emb.inv_freq', 'gpt_neox.layers.23.attention.masked_bias', 'gpt_neox.layers.12.attention.query_key_value.bias', 'gpt_neox.layers.16.attention.query_key_value.weight', 'gpt_neox.layers.20.input_layernorm.weight', 'gpt_neox.layers.6.mlp.dense_4h_to_h.weight', 'gpt_neox.layers.19.attention.bias', 'gpt_neox.layers.18.attention.query_key_value.weight', 'gpt_neox.layers.13.mlp.dense_4h_to_h.bias', 'gpt_neox.layers.2.attention.bias', 'gpt_neox.layers.15.mlp.dense_h_to_4h.bias', 'gpt_neox.layers.2.post_attention_layernorm.weight', 'gpt_neox.layers.18.mlp.dense_h_to_4h.weight', 'gpt_neox.layers.13.post_attention_layernorm.weight', 'gpt_neox.final_layer_norm.weight', 'gpt_neox.layers.11.attention.query_key_value.bias', 'gpt_neox.layers.0.mlp.dense_h_to_4h.bias', 'gpt_neox.layers.1.mlp.dense_h_to_4h.weight', 'gpt_neox.layers.7.mlp.dense_h_to_4h.weight', 'gpt_neox.layers.8.attention.query_key_value.bias', 'gpt_neox.layers.20.attention.query_key_value.weight', 'gpt_neox.layers.4.attention.query_key_value.weight', 'gpt_neox.layers.23.mlp.dense_h_to_4h.bias', 'gpt_neox.layers.19.mlp.dense_4h_to_h.bias', 'gpt_neox.layers.17.post_attention_layernorm.weight', 'gpt_neox.layers.6.attention.bias', 'gpt_neox.layers.22.attention.dense.weight', 'gpt_neox.layers.8.attention.dense.weight', 'gpt_neox.layers.0.attention.bias', 'gpt_neox.layers.3.attention.query_key_value.bias', 'gpt_neox.layers.6.attention.query_key_value.weight', 'gpt_neox.layers.23.attention.rotary_emb.inv_freq', 'gpt_neox.layers.14.attention.query_key_value.bias', 'gpt_neox.layers.22.mlp.dense_h_to_4h.bias', 'gpt_neox.layers.18.input_layernorm.weight', 'gpt_neox.layers.11.mlp.dense_h_to_4h.weight', 'gpt_neox.layers.20.attention.bias', 'gpt_neox.layers.5.post_attention_layernorm.bias', 'gpt_neox.layers.7.mlp.dense_h_to_4h.bias', 'gpt_neox.layers.13.mlp.dense_h_to_4h.bias', 'gpt_neox.layers.8.attention.bias', 'gpt_neox.layers.11.post_attention_layernorm.bias', 'gpt_neox.layers.14.mlp.dense_h_to_4h.weight', 'gpt_neox.layers.1.input_layernorm.weight', 'gpt_neox.layers.22.post_attention_layernorm.bias', 'gpt_neox.layers.1.attention.bias', 'gpt_neox.layers.4.mlp.dense_4h_to_h.weight', 'gpt_neox.layers.22.attention.dense.bias', 'gpt_neox.layers.18.mlp.dense_h_to_4h.bias', 'gpt_neox.layers.0.attention.dense.bias', 'gpt_neox.layers.5.input_layernorm.bias', 'gpt_neox.layers.1.mlp.dense_h_to_4h.bias', 'gpt_neox.layers.17.attention.query_key_value.weight', 'gpt_neox.layers.21.attention.query_key_value.weight', 'gpt_neox.layers.10.attention.query_key_value.weight', 'gpt_neox.layers.12.mlp.dense_h_to_4h.weight', 'embed_out.weight', 'gpt_neox.layers.19.post_attention_layernorm.weight', 'gpt_neox.layers.17.input_layernorm.weight', 'gpt_neox.layers.10.attention.query_key_value.bias', 'gpt_neox.layers.16.attention.dense.weight', 'gpt_neox.layers.13.input_layernorm.weight', 'gpt_neox.layers.6.attention.masked_bias', 'gpt_neox.layers.2.mlp.dense_h_to_4h.bias', 'gpt_neox.layers.6.post_attention_layernorm.weight', 'gpt_neox.layers.10.post_attention_layernorm.bias', 'gpt_neox.layers.13.mlp.dense_4h_to_h.weight', 'gpt_neox.layers.19.input_layernorm.weight', 'gpt_neox.layers.3.attention.dense.weight', 'gpt_neox.layers.5.mlp.dense_4h_to_h.weight', 'gpt_neox.layers.7.attention.query_key_value.bias', 'gpt_neox.layers.16.mlp.dense_4h_to_h.weight', 'gpt_neox.layers.10.post_attention_layernorm.weight', 'gpt_neox.layers.0.attention.rotary_emb.inv_freq', 'gpt_neox.embed_in.weight', 'gpt_neox.layers.10.attention.bias', 'gpt_neox.layers.15.attention.dense.bias', 'gpt_neox.layers.13.post_attention_layernorm.bias', 'gpt_neox.layers.20.post_attention_layernorm.bias', 'gpt_neox.layers.1.post_attention_layernorm.bias', 'gpt_neox.layers.9.attention.masked_bias', 'gpt_neox.layers.4.post_attention_layernorm.bias', 'gpt_neox.layers.9.attention.rotary_emb.inv_freq', 'gpt_neox.layers.4.input_layernorm.weight', 'gpt_neox.layers.14.attention.bias', 'gpt_neox.layers.10.input_layernorm.weight', 'gpt_neox.layers.10.mlp.dense_4h_to_h.weight', 'gpt_neox.layers.15.attention.query_key_value.weight', 'gpt_neox.layers.17.attention.dense.weight', 'gpt_neox.layers.4.mlp.dense_h_to_4h.weight', 'gpt_neox.layers.20.mlp.dense_h_to_4h.weight', 'gpt_neox.layers.21.attention.dense.bias', 'gpt_neox.layers.8.mlp.dense_4h_to_h.bias', 'gpt_neox.layers.10.attention.masked_bias', 'gpt_neox.layers.5.attention.query_key_value.bias', 'gpt_neox.layers.5.attention.query_key_value.weight']\n",
      "- This IS expected if you are initializing CLIPModel from the checkpoint of a model trained on another task or with another architecture (e.g. initializing a BertForSequenceClassification model from a BertForPreTraining model).\n",
      "- This IS NOT expected if you are initializing CLIPModel from the checkpoint of a model that you expect to be exactly identical (initializing a BertForSequenceClassification model from a BertForSequenceClassification model).\n",
      "Some weights of CLIPModel were not initialized from the model checkpoint at EleutherAI/polyglot-ko-1.3b and are newly initialized: ['text_model.encoder.layers.0.mlp.fc1.bias', 'text_model.encoder.layers.3.layer_norm2.bias', 'text_projection.weight', 'text_model.encoder.layers.6.self_attn.k_proj.weight', 'text_model.encoder.layers.3.self_attn.out_proj.weight', 'text_model.encoder.layers.1.mlp.fc1.weight', 'text_model.encoder.layers.2.self_attn.out_proj.bias', 'text_model.encoder.layers.1.self_attn.q_proj.weight', 'vision_model.encoder.layers.7.self_attn.v_proj.weight', 'vision_model.encoder.layers.1.layer_norm1.bias', 'text_model.encoder.layers.8.layer_norm2.weight', 'text_model.encoder.layers.5.layer_norm1.bias', 'vision_model.encoder.layers.4.mlp.fc1.bias', 'text_model.encoder.layers.2.mlp.fc1.bias', 'vision_model.encoder.layers.8.mlp.fc2.weight', 'vision_model.encoder.layers.9.self_attn.v_proj.weight', 'vision_model.encoder.layers.2.self_attn.q_proj.bias', 'vision_model.encoder.layers.6.self_attn.out_proj.weight', 'text_model.encoder.layers.6.layer_norm1.bias', 'vision_model.encoder.layers.1.layer_norm1.weight', 'text_model.encoder.layers.1.layer_norm2.bias', 'vision_model.encoder.layers.1.mlp.fc2.bias', 'text_model.encoder.layers.9.self_attn.out_proj.bias', 'text_model.encoder.layers.0.layer_norm1.bias', 'text_model.encoder.layers.6.mlp.fc2.weight', 'text_model.encoder.layers.10.self_attn.k_proj.weight', 'vision_model.encoder.layers.7.self_attn.out_proj.bias', 'vision_model.encoder.layers.2.mlp.fc2.bias', 'text_model.encoder.layers.8.self_attn.out_proj.weight', 'vision_model.encoder.layers.1.layer_norm2.weight', 'vision_model.encoder.layers.8.self_attn.k_proj.weight', 'text_model.encoder.layers.2.layer_norm2.weight', 'vision_model.encoder.layers.3.self_attn.out_proj.bias', 'text_model.encoder.layers.9.self_attn.q_proj.weight', 'vision_model.encoder.layers.6.mlp.fc1.weight', 'vision_model.encoder.layers.8.self_attn.out_proj.weight', 'text_model.encoder.layers.6.mlp.fc1.bias', 'text_model.encoder.layers.11.layer_norm1.bias', 'vision_model.encoder.layers.9.layer_norm2.bias', 'vision_model.encoder.layers.2.layer_norm1.bias', 'text_model.encoder.layers.0.mlp.fc2.bias', 'vision_model.encoder.layers.8.self_attn.q_proj.bias', 'vision_model.encoder.layers.2.self_attn.q_proj.weight', 'text_model.encoder.layers.2.self_attn.k_proj.bias', 'text_model.encoder.layers.2.layer_norm1.weight', 'vision_model.encoder.layers.0.layer_norm2.weight', 'vision_model.encoder.layers.9.mlp.fc2.weight', 'vision_model.encoder.layers.11.self_attn.q_proj.bias', 'vision_model.encoder.layers.4.layer_norm1.bias', 'vision_model.encoder.layers.4.self_attn.k_proj.weight', 'text_model.encoder.layers.7.mlp.fc2.bias', 'vision_model.encoder.layers.6.self_attn.out_proj.bias', 'vision_model.embeddings.class_embedding', 'vision_model.encoder.layers.7.mlp.fc1.weight', 'vision_model.encoder.layers.10.self_attn.k_proj.weight', 'text_model.encoder.layers.10.layer_norm2.bias', 'vision_model.encoder.layers.4.self_attn.q_proj.bias', 'text_model.encoder.layers.1.self_attn.out_proj.bias', 'vision_model.encoder.layers.9.mlp.fc1.weight', 'vision_model.encoder.layers.10.layer_norm1.bias', 'text_model.encoder.layers.6.self_attn.q_proj.bias', 'vision_model.encoder.layers.3.self_attn.q_proj.weight', 'text_model.encoder.layers.8.self_attn.k_proj.bias', 'text_model.encoder.layers.5.self_attn.v_proj.weight', 'vision_model.pre_layrnorm.bias', 'vision_model.encoder.layers.0.mlp.fc1.bias', 'text_model.encoder.layers.9.self_attn.out_proj.weight', 'vision_model.encoder.layers.0.layer_norm2.bias', 'text_model.encoder.layers.9.layer_norm2.bias', 'vision_model.encoder.layers.3.self_attn.k_proj.weight', 'vision_model.encoder.layers.10.self_attn.q_proj.bias', 'vision_model.encoder.layers.9.self_attn.k_proj.weight', 'text_model.encoder.layers.7.self_attn.q_proj.weight', 'text_model.encoder.layers.1.self_attn.k_proj.weight', 'text_model.encoder.layers.0.self_attn.q_proj.bias', 'text_model.encoder.layers.6.self_attn.v_proj.bias', 'vision_model.encoder.layers.7.layer_norm2.weight', 'vision_model.encoder.layers.11.self_attn.k_proj.bias', 'text_model.encoder.layers.3.self_attn.v_proj.bias', 'vision_model.encoder.layers.10.self_attn.k_proj.bias', 'vision_model.encoder.layers.1.self_attn.q_proj.bias', 'vision_model.encoder.layers.10.mlp.fc2.bias', 'text_model.encoder.layers.4.mlp.fc2.bias', 'vision_model.encoder.layers.0.mlp.fc2.weight', 'text_model.encoder.layers.11.mlp.fc2.bias', 'text_model.encoder.layers.7.self_attn.v_proj.weight', 'vision_model.encoder.layers.11.mlp.fc2.weight', 'text_model.encoder.layers.5.layer_norm2.bias', 'text_model.encoder.layers.7.mlp.fc1.bias', 'vision_model.encoder.layers.10.self_attn.v_proj.weight', 'text_model.encoder.layers.4.mlp.fc1.bias', 'vision_model.encoder.layers.5.layer_norm2.bias', 'vision_model.encoder.layers.3.layer_norm2.weight', 'text_model.encoder.layers.2.self_attn.v_proj.bias', 'vision_model.encoder.layers.11.mlp.fc1.bias', 'vision_model.encoder.layers.5.layer_norm1.weight', 'vision_model.encoder.layers.7.self_attn.k_proj.bias', 'vision_model.encoder.layers.0.self_attn.out_proj.weight', 'vision_model.encoder.layers.4.self_attn.out_proj.bias', 'vision_model.encoder.layers.11.layer_norm2.weight', 'vision_model.encoder.layers.8.mlp.fc2.bias', 'text_model.encoder.layers.0.self_attn.k_proj.bias', 'vision_model.encoder.layers.0.self_attn.v_proj.weight', 'vision_model.encoder.layers.10.layer_norm2.bias', 'text_model.encoder.layers.7.self_attn.v_proj.bias', 'text_model.encoder.layers.6.self_attn.out_proj.weight', 'vision_model.encoder.layers.0.mlp.fc2.bias', 'vision_model.encoder.layers.2.mlp.fc1.weight', 'vision_model.encoder.layers.11.self_attn.q_proj.weight', 'vision_model.encoder.layers.5.self_attn.q_proj.weight', 'vision_model.encoder.layers.0.self_attn.q_proj.weight', 'vision_model.encoder.layers.5.mlp.fc1.weight', 'text_model.encoder.layers.9.self_attn.v_proj.bias', 'text_model.encoder.layers.8.mlp.fc2.weight', 'vision_model.encoder.layers.1.self_attn.v_proj.bias', 'text_model.encoder.layers.2.self_attn.v_proj.weight', 'text_model.encoder.layers.11.self_attn.k_proj.bias', 'vision_model.encoder.layers.1.mlp.fc1.weight', 'text_model.encoder.layers.1.self_attn.out_proj.weight', 'vision_model.encoder.layers.1.self_attn.q_proj.weight', 'text_model.encoder.layers.8.mlp.fc1.weight', 'text_model.encoder.layers.5.mlp.fc1.bias', 'text_model.encoder.layers.5.layer_norm2.weight', 'vision_model.encoder.layers.9.self_attn.v_proj.bias', 'text_model.encoder.layers.10.mlp.fc1.weight', 'text_model.encoder.layers.5.layer_norm1.weight', 'text_model.encoder.layers.7.layer_norm2.weight', 'text_model.encoder.layers.8.self_attn.v_proj.bias', 'text_model.encoder.layers.5.self_attn.out_proj.weight', 'text_model.final_layer_norm.weight', 'vision_model.encoder.layers.4.layer_norm2.bias', 'text_model.encoder.layers.0.mlp.fc1.weight', 'vision_model.encoder.layers.5.self_attn.k_proj.bias', 'vision_model.encoder.layers.6.layer_norm2.bias', 'vision_model.encoder.layers.9.self_attn.out_proj.bias', 'vision_model.encoder.layers.2.self_attn.v_proj.bias', 'vision_model.encoder.layers.8.mlp.fc1.weight', 'vision_model.encoder.layers.8.self_attn.q_proj.weight', 'vision_model.encoder.layers.9.layer_norm1.bias', 'text_model.encoder.layers.3.mlp.fc1.bias', 'text_model.encoder.layers.6.self_attn.v_proj.weight', 'vision_model.encoder.layers.11.layer_norm1.weight', 'text_model.encoder.layers.4.self_attn.out_proj.weight', 'vision_model.embeddings.position_embedding.weight', 'text_model.encoder.layers.3.mlp.fc2.bias', 'vision_model.encoder.layers.0.layer_norm1.bias', 'text_model.encoder.layers.3.self_attn.q_proj.bias', 'text_model.encoder.layers.4.self_attn.q_proj.weight', 'text_model.encoder.layers.10.layer_norm1.weight', 'text_model.encoder.layers.4.self_attn.out_proj.bias', 'vision_model.encoder.layers.10.self_attn.v_proj.bias', 'text_model.encoder.layers.1.self_attn.k_proj.bias', 'text_model.encoder.layers.0.self_attn.k_proj.weight', 'text_model.encoder.layers.7.layer_norm1.weight', 'vision_model.encoder.layers.4.self_attn.v_proj.bias', 'vision_model.encoder.layers.7.layer_norm1.bias', 'text_model.encoder.layers.4.mlp.fc1.weight', 'vision_model.encoder.layers.9.mlp.fc2.bias', 'text_model.encoder.layers.1.self_attn.q_proj.bias', 'text_model.encoder.layers.10.layer_norm1.bias', 'text_model.encoder.layers.5.self_attn.k_proj.bias', 'text_model.encoder.layers.3.layer_norm1.weight', 'text_model.encoder.layers.11.layer_norm1.weight', 'text_model.encoder.layers.2.mlp.fc2.weight', 'text_model.encoder.layers.8.self_attn.q_proj.bias', 'vision_model.encoder.layers.7.layer_norm2.bias', 'vision_model.encoder.layers.1.mlp.fc1.bias', 'text_model.encoder.layers.7.layer_norm1.bias', 'text_model.embeddings.token_embedding.weight', 'text_model.encoder.layers.9.mlp.fc2.weight', 'text_model.encoder.layers.4.self_attn.q_proj.bias', 'vision_model.encoder.layers.2.self_attn.v_proj.weight', 'text_model.encoder.layers.2.mlp.fc1.weight', 'vision_model.encoder.layers.7.self_attn.v_proj.bias', 'text_model.encoder.layers.9.layer_norm2.weight', 'vision_model.encoder.layers.10.mlp.fc1.weight', 'text_model.encoder.layers.10.self_attn.k_proj.bias', 'text_model.final_layer_norm.bias', 'vision_model.encoder.layers.8.layer_norm1.weight', 'vision_model.encoder.layers.8.self_attn.out_proj.bias', 'visual_projection.weight', 'vision_model.encoder.layers.2.mlp.fc1.bias', 'vision_model.encoder.layers.7.self_attn.q_proj.weight', 'vision_model.encoder.layers.5.layer_norm2.weight', 'vision_model.encoder.layers.7.mlp.fc1.bias', 'text_model.encoder.layers.7.self_attn.out_proj.bias', 'text_model.encoder.layers.8.layer_norm2.bias', 'text_model.encoder.layers.9.self_attn.q_proj.bias', 'vision_model.encoder.layers.1.mlp.fc2.weight', 'vision_model.encoder.layers.7.self_attn.out_proj.weight', 'text_model.encoder.layers.5.self_attn.v_proj.bias', 'vision_model.encoder.layers.3.mlp.fc2.weight', 'text_model.encoder.layers.2.self_attn.out_proj.weight', 'vision_model.encoder.layers.6.self_attn.k_proj.weight', 'text_model.encoder.layers.2.mlp.fc2.bias', 'vision_model.encoder.layers.10.self_attn.out_proj.bias', 'vision_model.encoder.layers.9.self_attn.out_proj.weight', 'text_model.encoder.layers.9.mlp.fc2.bias', 'text_model.encoder.layers.6.mlp.fc2.bias', 'vision_model.encoder.layers.9.layer_norm2.weight', 'text_model.encoder.layers.8.layer_norm1.bias', 'vision_model.encoder.layers.8.layer_norm2.weight', 'vision_model.encoder.layers.2.layer_norm2.bias', 'text_model.encoder.layers.9.mlp.fc1.bias', 'text_model.encoder.layers.1.self_attn.v_proj.weight', 'text_model.encoder.layers.10.layer_norm2.weight', 'text_model.encoder.layers.11.mlp.fc2.weight', 'text_model.encoder.layers.9.self_attn.k_proj.bias', 'vision_model.encoder.layers.3.layer_norm1.weight', 'text_model.encoder.layers.10.mlp.fc1.bias', 'text_model.encoder.layers.11.self_attn.out_proj.weight', 'text_model.encoder.layers.9.mlp.fc1.weight', 'text_model.embeddings.position_embedding.weight', 'vision_model.encoder.layers.4.self_attn.k_proj.bias', 'text_model.encoder.layers.4.layer_norm2.bias', 'vision_model.encoder.layers.5.self_attn.v_proj.bias', 'text_model.encoder.layers.9.layer_norm1.weight', 'vision_model.encoder.layers.4.mlp.fc1.weight', 'text_model.encoder.layers.11.self_attn.q_proj.weight', 'text_model.encoder.layers.4.layer_norm1.bias', 'text_model.encoder.layers.5.self_attn.q_proj.bias', 'vision_model.encoder.layers.5.self_attn.v_proj.weight', 'text_model.encoder.layers.11.layer_norm2.bias', 'vision_model.encoder.layers.4.layer_norm1.weight', 'text_model.encoder.layers.3.self_attn.k_proj.bias', 'text_model.encoder.layers.5.mlp.fc2.weight', 'vision_model.encoder.layers.10.mlp.fc1.bias', 'text_model.encoder.layers.1.layer_norm1.bias', 'vision_model.encoder.layers.2.self_attn.k_proj.weight', 'text_model.encoder.layers.1.mlp.fc1.bias', 'vision_model.encoder.layers.11.mlp.fc1.weight', 'text_model.encoder.layers.7.mlp.fc2.weight', 'vision_model.encoder.layers.6.mlp.fc2.bias', 'text_model.encoder.layers.10.self_attn.v_proj.weight', 'vision_model.encoder.layers.1.layer_norm2.bias', 'vision_model.encoder.layers.4.self_attn.out_proj.weight', 'text_model.encoder.layers.0.self_attn.v_proj.bias', 'text_model.encoder.layers.4.layer_norm2.weight', 'text_model.encoder.layers.1.self_attn.v_proj.bias', 'vision_model.encoder.layers.6.self_attn.q_proj.bias', 'text_model.encoder.layers.7.self_attn.k_proj.weight', 'vision_model.encoder.layers.9.mlp.fc1.bias', 'text_model.encoder.layers.1.layer_norm2.weight', 'vision_model.post_layernorm.weight', 'vision_model.encoder.layers.8.mlp.fc1.bias', 'vision_model.encoder.layers.5.self_attn.k_proj.weight', 'vision_model.encoder.layers.4.mlp.fc2.weight', 'vision_model.encoder.layers.0.layer_norm1.weight', 'vision_model.encoder.layers.9.self_attn.q_proj.bias', 'vision_model.encoder.layers.11.mlp.fc2.bias', 'vision_model.encoder.layers.6.mlp.fc1.bias', 'text_model.encoder.layers.2.self_attn.q_proj.bias', 'vision_model.encoder.layers.1.self_attn.out_proj.weight', 'vision_model.encoder.layers.3.self_attn.v_proj.weight', 'vision_model.encoder.layers.3.mlp.fc1.weight', 'text_model.encoder.layers.7.self_attn.q_proj.bias', 'vision_model.encoder.layers.1.self_attn.v_proj.weight', 'vision_model.encoder.layers.6.self_attn.q_proj.weight', 'text_model.encoder.layers.4.layer_norm1.weight', 'text_model.encoder.layers.7.mlp.fc1.weight', 'vision_model.encoder.layers.3.self_attn.out_proj.weight', 'text_model.encoder.layers.11.self_attn.q_proj.bias', 'vision_model.encoder.layers.7.self_attn.q_proj.bias', 'vision_model.encoder.layers.9.self_attn.q_proj.weight', 'text_model.encoder.layers.3.self_attn.v_proj.weight', 'vision_model.encoder.layers.2.layer_norm2.weight', 'vision_model.encoder.layers.5.mlp.fc1.bias', 'vision_model.encoder.layers.8.self_attn.v_proj.weight', 'text_model.encoder.layers.5.mlp.fc1.weight', 'text_model.encoder.layers.7.self_attn.k_proj.bias', 'vision_model.encoder.layers.11.self_attn.k_proj.weight', 'text_model.encoder.layers.0.self_attn.out_proj.bias', 'text_model.encoder.layers.6.self_attn.out_proj.bias', 'vision_model.encoder.layers.3.layer_norm1.bias', 'vision_model.encoder.layers.0.self_attn.k_proj.weight', 'text_model.encoder.layers.8.layer_norm1.weight', 'text_model.encoder.layers.0.self_attn.q_proj.weight', 'text_model.encoder.layers.8.self_attn.out_proj.bias', 'text_model.encoder.layers.10.mlp.fc2.weight', 'vision_model.encoder.layers.0.mlp.fc1.weight', 'text_model.encoder.layers.10.self_attn.q_proj.bias', 'vision_model.encoder.layers.8.layer_norm2.bias', 'vision_model.encoder.layers.9.self_attn.k_proj.bias', 'text_model.encoder.layers.11.layer_norm2.weight', 'vision_model.encoder.layers.5.self_attn.out_proj.weight', 'text_model.encoder.layers.8.mlp.fc1.bias', 'vision_model.encoder.layers.3.self_attn.q_proj.bias', 'vision_model.encoder.layers.5.self_attn.out_proj.bias', 'text_model.encoder.layers.6.layer_norm2.bias', 'text_model.encoder.layers.9.layer_norm1.bias', 'text_model.encoder.layers.11.self_attn.out_proj.bias', 'text_model.encoder.layers.0.mlp.fc2.weight', 'text_model.encoder.layers.4.self_attn.k_proj.weight', 'text_model.encoder.layers.6.layer_norm1.weight', 'text_model.encoder.layers.7.self_attn.out_proj.weight', 'vision_model.pre_layrnorm.weight', 'vision_model.encoder.layers.11.self_attn.out_proj.bias', 'text_model.encoder.layers.3.layer_norm2.weight', 'vision_model.encoder.layers.11.self_attn.out_proj.weight', 'text_model.encoder.layers.5.self_attn.out_proj.bias', 'vision_model.post_layernorm.bias', 'vision_model.encoder.layers.2.self_attn.k_proj.bias', 'vision_model.encoder.layers.6.layer_norm1.bias', 'vision_model.encoder.layers.6.layer_norm1.weight', 'text_model.encoder.layers.3.layer_norm1.bias', 'vision_model.encoder.layers.5.mlp.fc2.bias', 'vision_model.encoder.layers.2.mlp.fc2.weight', 'text_model.encoder.layers.4.self_attn.v_proj.bias', 'vision_model.encoder.layers.6.layer_norm2.weight', 'text_model.encoder.layers.4.self_attn.k_proj.bias', 'vision_model.encoder.layers.0.self_attn.q_proj.bias', 'text_model.encoder.layers.5.self_attn.q_proj.weight', 'text_model.encoder.layers.3.mlp.fc1.weight', 'vision_model.encoder.layers.11.layer_norm1.bias', 'vision_model.encoder.layers.11.self_attn.v_proj.bias', 'vision_model.encoder.layers.10.self_attn.out_proj.weight', 'vision_model.encoder.layers.5.layer_norm1.bias', 'text_model.encoder.layers.0.layer_norm1.weight', 'text_model.encoder.layers.6.self_attn.k_proj.bias', 'vision_model.encoder.layers.8.self_attn.v_proj.bias', 'text_model.encoder.layers.10.self_attn.out_proj.bias', 'text_model.encoder.layers.10.mlp.fc2.bias', 'vision_model.encoder.layers.8.self_attn.k_proj.bias', 'text_model.encoder.layers.3.self_attn.q_proj.weight', 'text_model.encoder.layers.11.self_attn.v_proj.bias', 'text_model.encoder.layers.6.mlp.fc1.weight', 'text_model.encoder.layers.9.self_attn.k_proj.weight', 'text_model.encoder.layers.0.self_attn.v_proj.weight', 'text_model.encoder.layers.8.self_attn.q_proj.weight', 'vision_model.encoder.layers.11.layer_norm2.bias', 'text_model.encoder.layers.0.self_attn.out_proj.weight', 'vision_model.encoder.layers.3.self_attn.v_proj.bias', 'text_model.encoder.layers.8.self_attn.v_proj.weight', 'text_model.encoder.layers.6.layer_norm2.weight', 'vision_model.encoder.layers.1.self_attn.k_proj.weight', 'vision_model.encoder.layers.5.mlp.fc2.weight', 'vision_model.encoder.layers.2.self_attn.out_proj.weight', 'vision_model.encoder.layers.9.layer_norm1.weight', 'vision_model.encoder.layers.4.mlp.fc2.bias', 'text_model.encoder.layers.11.self_attn.v_proj.weight', 'text_model.encoder.layers.5.mlp.fc2.bias', 'vision_model.encoder.layers.6.self_attn.v_proj.weight', 'text_model.encoder.layers.4.self_attn.v_proj.weight', 'vision_model.encoder.layers.10.layer_norm1.weight', 'text_model.encoder.layers.2.self_attn.q_proj.weight', 'vision_model.encoder.layers.0.self_attn.k_proj.bias', 'vision_model.encoder.layers.6.self_attn.k_proj.bias', 'text_model.encoder.layers.0.layer_norm2.bias', 'vision_model.encoder.layers.5.self_attn.q_proj.bias', 'text_model.encoder.layers.9.self_attn.v_proj.weight', 'vision_model.encoder.layers.0.self_attn.v_proj.bias', 'vision_model.encoder.layers.3.self_attn.k_proj.bias', 'vision_model.encoder.layers.11.self_attn.v_proj.weight', 'vision_model.encoder.layers.7.self_attn.k_proj.weight', 'vision_model.encoder.layers.6.mlp.fc2.weight', 'text_model.encoder.layers.11.mlp.fc1.weight', 'text_model.encoder.layers.5.self_attn.k_proj.weight', 'vision_model.encoder.layers.2.layer_norm1.weight', 'text_model.encoder.layers.2.self_attn.k_proj.weight', 'text_model.encoder.layers.1.mlp.fc2.weight', 'vision_model.encoder.layers.3.mlp.fc1.bias', 'text_model.encoder.layers.11.mlp.fc1.bias', 'vision_model.encoder.layers.4.layer_norm2.weight', 'text_model.encoder.layers.10.self_attn.out_proj.weight', 'logit_scale', 'vision_model.encoder.layers.1.self_attn.out_proj.bias', 'text_model.encoder.layers.3.self_attn.k_proj.weight', 'vision_model.encoder.layers.2.self_attn.out_proj.bias', 'text_model.encoder.layers.8.mlp.fc2.bias', 'text_model.encoder.layers.8.self_attn.k_proj.weight', 'text_model.encoder.layers.1.layer_norm1.weight', 'text_model.encoder.layers.3.self_attn.out_proj.bias', 'text_model.encoder.layers.1.mlp.fc2.bias', 'vision_model.encoder.layers.7.mlp.fc2.weight', 'text_model.encoder.layers.2.layer_norm1.bias', 'vision_model.encoder.layers.4.self_attn.q_proj.weight', 'vision_model.encoder.layers.7.layer_norm1.weight', 'vision_model.encoder.layers.4.self_attn.v_proj.weight', 'text_model.encoder.layers.2.layer_norm2.bias', 'text_model.encoder.layers.11.self_attn.k_proj.weight', 'text_model.encoder.layers.10.self_attn.q_proj.weight', 'vision_model.encoder.layers.0.self_attn.out_proj.bias', 'text_model.encoder.layers.4.mlp.fc2.weight', 'text_model.encoder.layers.10.self_attn.v_proj.bias', 'vision_model.encoder.layers.10.layer_norm2.weight', 'text_model.encoder.layers.3.mlp.fc2.weight', 'vision_model.encoder.layers.7.mlp.fc2.bias', 'vision_model.encoder.layers.3.mlp.fc2.bias', 'vision_model.encoder.layers.6.self_attn.v_proj.bias', 'vision_model.encoder.layers.8.layer_norm1.bias', 'vision_model.encoder.layers.3.layer_norm2.bias', 'text_model.encoder.layers.0.layer_norm2.weight', 'vision_model.encoder.layers.10.self_attn.q_proj.weight', 'vision_model.encoder.layers.10.mlp.fc2.weight', 'text_model.encoder.layers.6.self_attn.q_proj.weight', 'vision_model.embeddings.patch_embedding.weight', 'vision_model.encoder.layers.1.self_attn.k_proj.bias', 'text_model.encoder.layers.7.layer_norm2.bias']\n",
      "You should probably TRAIN this model on a down-stream task to be able to use it for predictions and inference.\n"
     ]
    }
   ],
   "source": [
    "device = torch.device(\"cuda:1\" if torch.cuda.is_available() else \"cpu\")\n",
    "\n",
    "# Define the dataset and data loader\n",
    "transform = transforms.Compose([\n",
    "    transforms.Resize(224),\n",
    "    transforms.CenterCrop(224),\n",
    "    transforms.ToTensor(),\n",
    "    transforms.Normalize((0.5, 0.5, 0.5), (0.5, 0.5, 0.5))\n",
    "])\n",
    "\n",
    "# Load the CLIP model and processor\n",
    "# model_name = \"openai/clip-vit-base-patch32\"\n",
    "model_name = \"EleutherAI/polyglot-ko-1.3b\"\n",
    "# processor = CLIPProcessor.from_pretrained(model_name)\n",
    "tokenizer = AutoTokenizer.from_pretrained(model_name)\n",
    "model = CLIPModel.from_pretrained(model_name).to(device)\n",
    "\n",
    "# Freeze all layers except the projection layer\n",
    "for name, param in model.named_parameters():\n",
    "    if \"visual\" in name and \"projection\" not in name:\n",
    "        param.requires_grad = False\n",
    "    elif \"text\" in name and \"projection\" not in name:\n",
    "        param.requires_grad = False\n",
    "\n",
    "optimizer = AdamW(\n",
    "    [\n",
    "        {'params':model.visual_projection.parameters()},\n",
    "        {'params':model.text_projection.parameters()}\n",
    "    ],\n",
    "    lr=0.0001\n",
    "    )"
   ]
  },
  {
   "cell_type": "code",
   "execution_count": 34,
   "metadata": {},
   "outputs": [],
   "source": [
    "\n",
    "class AIHub_data(Dataset):\n",
    "    \"\"\"COCO Custom Dataset compatible with torch.utils.data.DataLoader.\"\"\"\n",
    "    def __init__(self, root, json,  transform=None, tokenizer=None):\n",
    "        \"\"\"Set the path for images, captions and vocabulary wrapper.\n",
    "        \n",
    "        Args:\n",
    "            root: image directory.\n",
    "            json: coco annotation file path.\n",
    "            vocab: vocabulary wrapper.\n",
    "            transform: image transformer.\n",
    "        \"\"\"\n",
    "        self.root = root\n",
    "        self.coco = COCO(json)\n",
    "        self.ids = list(self.coco.anns.keys())\n",
    "        \n",
    "        self.transform = transform\n",
    "        self.tokenizer = tokenizer\n",
    "\n",
    "    def __getitem__(self, index):\n",
    "        \"\"\"Returns one data pair (image and caption).\"\"\"\n",
    "        coco = self.coco\n",
    "        ann_id = self.ids[index]\n",
    "        caption = coco.anns[ann_id]['caption']\n",
    "        img_id = coco.anns[ann_id]['image_id']\n",
    "        path = coco.loadImgs(img_id)[0]['file_name']\n",
    "\n",
    "        image = Image.open(os.path.join(self.root, path))\n",
    "        image = image.convert('RGB') if image.mode != 'RGB' else image\n",
    "        \n",
    "        if self.transform is not None:\n",
    "            # image = self.transform(image)\n",
    "            image = self.transform(image=np.asarray(image))\n",
    "            image = np.transpose(image['image'],(2, 0, 1))\n",
    "        \n",
    "\n",
    "        # Convert caption (string) to word ids.\n",
    "        # tokens = nltk.tokenize.word_tokenize(str(caption).lower())\n",
    "        inputs = self.tokenizer(caption, return_tensors=\"pt\", padding=\"max_length\", truncation=True, max_length=128)\n",
    "        del inputs['token_type_ids']\n",
    "        for k in ['input_ids', 'attention_mask']:\n",
    "            inputs[k] = torch.squeeze(inputs[k],0)\n",
    "        \n",
    "        inputs['pixel_values'] = image\n",
    "        \n",
    "        \n",
    "        return inputs\n",
    "    \n",
    "    def fix_img(self, img):\n",
    "        return img.convert('RGB') if img.mode != 'RGB' else img\n",
    "\n",
    "    def __len__(self):\n",
    "        return len(self.ids)"
   ]
  },
  {
   "cell_type": "code",
   "execution_count": 35,
   "metadata": {},
   "outputs": [],
   "source": [
    "def get_transforms(mode=\"train\"):\n",
    "    if mode == \"train\":\n",
    "        return A.Compose(\n",
    "            [\n",
    "                A.Resize(224, 224, always_apply=True),\n",
    "                A.Normalize(max_pixel_value=255.0, always_apply=True),\n",
    "                # A.Transpose((2, 0, 1))\n",
    "            ]\n",
    "        )\n",
    "    else:\n",
    "        return A.Compose(\n",
    "            [\n",
    "                A.Resize(224, 224, always_apply=True),\n",
    "                A.Normalize(max_pixel_value=255.0, always_apply=True),\n",
    "                # A.Transpose((2, 0, 1))\n",
    "            ]\n",
    "        )\n",
    "        \n",
    "def build_loaders(mode, tokenizer):\n",
    "    transforms = get_transforms(mode=mode)\n",
    "    dataset = AIHub_data(\n",
    "        root='/data/aihub/Training/images/',\n",
    "        json='/data/aihub/Training/labels/labels.json',\n",
    "        transform=transforms,\n",
    "        tokenizer=tokenizer)\n",
    "    \n",
    "    dataloader = torch.utils.data.DataLoader(\n",
    "        dataset,\n",
    "        batch_size=4,\n",
    "        num_workers=0,\n",
    "        shuffle=True if mode == \"train\" else False,\n",
    "        # collate_fn=collate_fn\n",
    "    )\n",
    "    return dataloader"
   ]
  },
  {
   "cell_type": "code",
   "execution_count": 36,
   "metadata": {},
   "outputs": [],
   "source": [
    "tokenizer = AutoTokenizer.from_pretrained(\"EleutherAI/polyglot-ko-1.3b\")"
   ]
  },
  {
   "cell_type": "code",
   "execution_count": 37,
   "metadata": {},
   "outputs": [
    {
     "name": "stdout",
     "output_type": "stream",
     "text": [
      "loading annotations into memory...\n",
      "Done (t=0.16s)\n",
      "creating index...\n",
      "index created!\n"
     ]
    }
   ],
   "source": [
    "train_loader = build_loaders('train', tokenizer)\n"
   ]
  },
  {
   "cell_type": "code",
   "execution_count": 43,
   "metadata": {},
   "outputs": [
    {
     "ename": "RuntimeError",
     "evalue": "The size of tensor a (128) must match the size of tensor b (77) at non-singleton dimension 1",
     "output_type": "error",
     "traceback": [
      "\u001b[0;31m---------------------------------------------------------------------------\u001b[0m",
      "\u001b[0;31mRuntimeError\u001b[0m                              Traceback (most recent call last)",
      "Cell \u001b[0;32mIn[43], line 15\u001b[0m\n\u001b[1;32m     11\u001b[0m optimizer\u001b[39m.\u001b[39mzero_grad()\n\u001b[1;32m     12\u001b[0m \u001b[39m# Preprocess images\u001b[39;00m\n\u001b[1;32m     13\u001b[0m \n\u001b[1;32m     14\u001b[0m \u001b[39m# Forward pass\u001b[39;00m\n\u001b[0;32m---> 15\u001b[0m outputs \u001b[39m=\u001b[39m model(\u001b[39m*\u001b[39;49m\u001b[39m*\u001b[39;49minputs)\n\u001b[1;32m     16\u001b[0m \u001b[39mprint\u001b[39m(\u001b[39m'\u001b[39m\u001b[39mfor loop\u001b[39m\u001b[39m'\u001b[39m)\n\u001b[1;32m     17\u001b[0m \u001b[39mbreak\u001b[39;00m\n",
      "File \u001b[0;32m/usr/local/lib/python3.9/dist-packages/torch/nn/modules/module.py:1130\u001b[0m, in \u001b[0;36mModule._call_impl\u001b[0;34m(self, *input, **kwargs)\u001b[0m\n\u001b[1;32m   1126\u001b[0m \u001b[39m# If we don't have any hooks, we want to skip the rest of the logic in\u001b[39;00m\n\u001b[1;32m   1127\u001b[0m \u001b[39m# this function, and just call forward.\u001b[39;00m\n\u001b[1;32m   1128\u001b[0m \u001b[39mif\u001b[39;00m \u001b[39mnot\u001b[39;00m (\u001b[39mself\u001b[39m\u001b[39m.\u001b[39m_backward_hooks \u001b[39mor\u001b[39;00m \u001b[39mself\u001b[39m\u001b[39m.\u001b[39m_forward_hooks \u001b[39mor\u001b[39;00m \u001b[39mself\u001b[39m\u001b[39m.\u001b[39m_forward_pre_hooks \u001b[39mor\u001b[39;00m _global_backward_hooks\n\u001b[1;32m   1129\u001b[0m         \u001b[39mor\u001b[39;00m _global_forward_hooks \u001b[39mor\u001b[39;00m _global_forward_pre_hooks):\n\u001b[0;32m-> 1130\u001b[0m     \u001b[39mreturn\u001b[39;00m forward_call(\u001b[39m*\u001b[39;49m\u001b[39minput\u001b[39;49m, \u001b[39m*\u001b[39;49m\u001b[39m*\u001b[39;49mkwargs)\n\u001b[1;32m   1131\u001b[0m \u001b[39m# Do not call functions when jit is used\u001b[39;00m\n\u001b[1;32m   1132\u001b[0m full_backward_hooks, non_full_backward_hooks \u001b[39m=\u001b[39m [], []\n",
      "File \u001b[0;32m/usr/local/lib/python3.9/dist-packages/transformers/models/clip/modeling_clip.py:1131\u001b[0m, in \u001b[0;36mCLIPModel.forward\u001b[0;34m(self, input_ids, pixel_values, attention_mask, position_ids, return_loss, output_attentions, output_hidden_states, return_dict)\u001b[0m\n\u001b[1;32m   1122\u001b[0m return_dict \u001b[39m=\u001b[39m return_dict \u001b[39mif\u001b[39;00m return_dict \u001b[39mis\u001b[39;00m \u001b[39mnot\u001b[39;00m \u001b[39mNone\u001b[39;00m \u001b[39melse\u001b[39;00m \u001b[39mself\u001b[39m\u001b[39m.\u001b[39mconfig\u001b[39m.\u001b[39muse_return_dict\n\u001b[1;32m   1124\u001b[0m vision_outputs \u001b[39m=\u001b[39m \u001b[39mself\u001b[39m\u001b[39m.\u001b[39mvision_model(\n\u001b[1;32m   1125\u001b[0m     pixel_values\u001b[39m=\u001b[39mpixel_values,\n\u001b[1;32m   1126\u001b[0m     output_attentions\u001b[39m=\u001b[39moutput_attentions,\n\u001b[1;32m   1127\u001b[0m     output_hidden_states\u001b[39m=\u001b[39moutput_hidden_states,\n\u001b[1;32m   1128\u001b[0m     return_dict\u001b[39m=\u001b[39mreturn_dict,\n\u001b[1;32m   1129\u001b[0m )\n\u001b[0;32m-> 1131\u001b[0m text_outputs \u001b[39m=\u001b[39m \u001b[39mself\u001b[39;49m\u001b[39m.\u001b[39;49mtext_model(\n\u001b[1;32m   1132\u001b[0m     input_ids\u001b[39m=\u001b[39;49minput_ids,\n\u001b[1;32m   1133\u001b[0m     attention_mask\u001b[39m=\u001b[39;49mattention_mask,\n\u001b[1;32m   1134\u001b[0m     position_ids\u001b[39m=\u001b[39;49mposition_ids,\n\u001b[1;32m   1135\u001b[0m     output_attentions\u001b[39m=\u001b[39;49moutput_attentions,\n\u001b[1;32m   1136\u001b[0m     output_hidden_states\u001b[39m=\u001b[39;49moutput_hidden_states,\n\u001b[1;32m   1137\u001b[0m     return_dict\u001b[39m=\u001b[39;49mreturn_dict,\n\u001b[1;32m   1138\u001b[0m )\n\u001b[1;32m   1140\u001b[0m image_embeds \u001b[39m=\u001b[39m vision_outputs[\u001b[39m1\u001b[39m]\n\u001b[1;32m   1141\u001b[0m image_embeds \u001b[39m=\u001b[39m \u001b[39mself\u001b[39m\u001b[39m.\u001b[39mvisual_projection(image_embeds)\n",
      "File \u001b[0;32m/usr/local/lib/python3.9/dist-packages/torch/nn/modules/module.py:1130\u001b[0m, in \u001b[0;36mModule._call_impl\u001b[0;34m(self, *input, **kwargs)\u001b[0m\n\u001b[1;32m   1126\u001b[0m \u001b[39m# If we don't have any hooks, we want to skip the rest of the logic in\u001b[39;00m\n\u001b[1;32m   1127\u001b[0m \u001b[39m# this function, and just call forward.\u001b[39;00m\n\u001b[1;32m   1128\u001b[0m \u001b[39mif\u001b[39;00m \u001b[39mnot\u001b[39;00m (\u001b[39mself\u001b[39m\u001b[39m.\u001b[39m_backward_hooks \u001b[39mor\u001b[39;00m \u001b[39mself\u001b[39m\u001b[39m.\u001b[39m_forward_hooks \u001b[39mor\u001b[39;00m \u001b[39mself\u001b[39m\u001b[39m.\u001b[39m_forward_pre_hooks \u001b[39mor\u001b[39;00m _global_backward_hooks\n\u001b[1;32m   1129\u001b[0m         \u001b[39mor\u001b[39;00m _global_forward_hooks \u001b[39mor\u001b[39;00m _global_forward_pre_hooks):\n\u001b[0;32m-> 1130\u001b[0m     \u001b[39mreturn\u001b[39;00m forward_call(\u001b[39m*\u001b[39;49m\u001b[39minput\u001b[39;49m, \u001b[39m*\u001b[39;49m\u001b[39m*\u001b[39;49mkwargs)\n\u001b[1;32m   1131\u001b[0m \u001b[39m# Do not call functions when jit is used\u001b[39;00m\n\u001b[1;32m   1132\u001b[0m full_backward_hooks, non_full_backward_hooks \u001b[39m=\u001b[39m [], []\n",
      "File \u001b[0;32m/usr/local/lib/python3.9/dist-packages/transformers/models/clip/modeling_clip.py:730\u001b[0m, in \u001b[0;36mCLIPTextTransformer.forward\u001b[0;34m(self, input_ids, attention_mask, position_ids, output_attentions, output_hidden_states, return_dict)\u001b[0m\n\u001b[1;32m    727\u001b[0m input_shape \u001b[39m=\u001b[39m input_ids\u001b[39m.\u001b[39msize()\n\u001b[1;32m    728\u001b[0m input_ids \u001b[39m=\u001b[39m input_ids\u001b[39m.\u001b[39mview(\u001b[39m-\u001b[39m\u001b[39m1\u001b[39m, input_shape[\u001b[39m-\u001b[39m\u001b[39m1\u001b[39m])\n\u001b[0;32m--> 730\u001b[0m hidden_states \u001b[39m=\u001b[39m \u001b[39mself\u001b[39;49m\u001b[39m.\u001b[39;49membeddings(input_ids\u001b[39m=\u001b[39;49minput_ids, position_ids\u001b[39m=\u001b[39;49mposition_ids)\n\u001b[1;32m    732\u001b[0m \u001b[39m# CLIP's text model uses causal mask, prepare it here.\u001b[39;00m\n\u001b[1;32m    733\u001b[0m \u001b[39m# https://github.com/openai/CLIP/blob/cfcffb90e69f37bf2ff1e988237a0fbe41f33c04/clip/model.py#L324\u001b[39;00m\n\u001b[1;32m    734\u001b[0m causal_attention_mask \u001b[39m=\u001b[39m _make_causal_mask(input_shape, hidden_states\u001b[39m.\u001b[39mdtype, device\u001b[39m=\u001b[39mhidden_states\u001b[39m.\u001b[39mdevice)\n",
      "File \u001b[0;32m/usr/local/lib/python3.9/dist-packages/torch/nn/modules/module.py:1130\u001b[0m, in \u001b[0;36mModule._call_impl\u001b[0;34m(self, *input, **kwargs)\u001b[0m\n\u001b[1;32m   1126\u001b[0m \u001b[39m# If we don't have any hooks, we want to skip the rest of the logic in\u001b[39;00m\n\u001b[1;32m   1127\u001b[0m \u001b[39m# this function, and just call forward.\u001b[39;00m\n\u001b[1;32m   1128\u001b[0m \u001b[39mif\u001b[39;00m \u001b[39mnot\u001b[39;00m (\u001b[39mself\u001b[39m\u001b[39m.\u001b[39m_backward_hooks \u001b[39mor\u001b[39;00m \u001b[39mself\u001b[39m\u001b[39m.\u001b[39m_forward_hooks \u001b[39mor\u001b[39;00m \u001b[39mself\u001b[39m\u001b[39m.\u001b[39m_forward_pre_hooks \u001b[39mor\u001b[39;00m _global_backward_hooks\n\u001b[1;32m   1129\u001b[0m         \u001b[39mor\u001b[39;00m _global_forward_hooks \u001b[39mor\u001b[39;00m _global_forward_pre_hooks):\n\u001b[0;32m-> 1130\u001b[0m     \u001b[39mreturn\u001b[39;00m forward_call(\u001b[39m*\u001b[39;49m\u001b[39minput\u001b[39;49m, \u001b[39m*\u001b[39;49m\u001b[39m*\u001b[39;49mkwargs)\n\u001b[1;32m   1131\u001b[0m \u001b[39m# Do not call functions when jit is used\u001b[39;00m\n\u001b[1;32m   1132\u001b[0m full_backward_hooks, non_full_backward_hooks \u001b[39m=\u001b[39m [], []\n",
      "File \u001b[0;32m/usr/local/lib/python3.9/dist-packages/transformers/models/clip/modeling_clip.py:230\u001b[0m, in \u001b[0;36mCLIPTextEmbeddings.forward\u001b[0;34m(self, input_ids, position_ids, inputs_embeds)\u001b[0m\n\u001b[1;32m    227\u001b[0m     inputs_embeds \u001b[39m=\u001b[39m \u001b[39mself\u001b[39m\u001b[39m.\u001b[39mtoken_embedding(input_ids)\n\u001b[1;32m    229\u001b[0m position_embeddings \u001b[39m=\u001b[39m \u001b[39mself\u001b[39m\u001b[39m.\u001b[39mposition_embedding(position_ids)\n\u001b[0;32m--> 230\u001b[0m embeddings \u001b[39m=\u001b[39m inputs_embeds \u001b[39m+\u001b[39;49m position_embeddings\n\u001b[1;32m    232\u001b[0m \u001b[39mreturn\u001b[39;00m embeddings\n",
      "\u001b[0;31mRuntimeError\u001b[0m: The size of tensor a (128) must match the size of tensor b (77) at non-singleton dimension 1"
     ]
    }
   ],
   "source": [
    "\n",
    "# Training loop\n",
    "model.train()\n",
    "for epoch in range(10):\n",
    "    total_loss = 0.0\n",
    "    for batch, inputs in enumerate(train_loader):\n",
    "        inputs = {k:v.to('cuda:1') for k, v in inputs.items()}\n",
    "        # inputs['pixel_values'] = inputs['pixel_values'].to(device)\n",
    "        \n",
    "\n",
    "        optimizer.zero_grad()\n",
    "        # Preprocess images\n",
    "        \n",
    "        # Forward pass\n",
    "        outputs = model(**inputs)\n",
    "        print('for loop')\n",
    "        break\n",
    "        \n",
    "        batch_size = images.size(0)\n",
    "        logits_per_image = outputs.logits_per_image\n",
    "\n",
    "        # Generate random labels for contrastive learning\n",
    "        targets = torch.arange(batch_size).to(device)\n",
    "\n",
    "        # Compute loss\n",
    "        loss = torch.nn.functional.cross_entropy(logits_per_image / 0.1, targets)\n",
    "\n",
    "        loss.backward()\n",
    "        optimizer.step()\n",
    "\n",
    "        total_loss += loss.item()\n",
    "\n",
    "        if (batch + 1) % 10 == 0:\n",
    "            print(f\"Epoch [{epoch+1}/{10}], Step [{batch+1}/{len(data_loader)}], Loss: {loss.item():.4f}\")\n",
    "\n",
    "    print(f\"Epoch [{epoch+1}/{10}], Total Loss: {total_loss:.4f}\")\n",
    "    break\n",
    "\n",
    "# Save the trained model\n",
    "model.save_pretrained(\"path/to/save/model\")"
   ]
  },
  {
   "cell_type": "code",
   "execution_count": 39,
   "metadata": {},
   "outputs": [
    {
     "data": {
      "text/plain": [
       "dict_keys(['input_ids', 'attention_mask', 'pixel_values'])"
      ]
     },
     "execution_count": 39,
     "metadata": {},
     "output_type": "execute_result"
    }
   ],
   "source": [
    "inputs.keys()"
   ]
  },
  {
   "cell_type": "code",
   "execution_count": 42,
   "metadata": {},
   "outputs": [
    {
     "data": {
      "text/plain": [
       "torch.Size([4, 3, 224, 224])"
      ]
     },
     "execution_count": 42,
     "metadata": {},
     "output_type": "execute_result"
    }
   ],
   "source": [
    "inputs['pixel_values'].shape"
   ]
  },
  {
   "cell_type": "code",
   "execution_count": null,
   "metadata": {},
   "outputs": [],
   "source": []
  }
 ],
 "metadata": {
  "kernelspec": {
   "display_name": "Python 3",
   "language": "python",
   "name": "python3"
  },
  "language_info": {
   "codemirror_mode": {
    "name": "ipython",
    "version": 3
   },
   "file_extension": ".py",
   "mimetype": "text/x-python",
   "name": "python",
   "nbconvert_exporter": "python",
   "pygments_lexer": "ipython3",
   "version": "3.6.9"
  },
  "orig_nbformat": 4
 },
 "nbformat": 4,
 "nbformat_minor": 2
}
